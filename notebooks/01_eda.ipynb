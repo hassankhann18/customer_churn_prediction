{
 "cells": [
  {
   "metadata": {},
   "cell_type": "markdown",
   "source": "## CUSTOMER CHURN PREDICTION",
   "id": "b3b621da13ebb051"
  },
  {
   "cell_type": "code",
   "id": "initial_id",
   "metadata": {
    "collapsed": true,
    "ExecuteTime": {
     "end_time": "2025-08-04T02:09:50.493073Z",
     "start_time": "2025-08-04T02:09:50.353808Z"
    }
   },
   "source": [
    "# IMPORTING LIBRARIES\n",
    "import pandas as pd\n",
    "import numpy as np\n",
    "import matplotlib.pyplot as plt\n",
    "import seaborn as sns\n",
    "from sklearn.preprocessing import LabelEncoder"
   ],
   "outputs": [],
   "execution_count": 40
  },
  {
   "metadata": {
    "ExecuteTime": {
     "end_time": "2025-07-31T00:00:10.861542Z",
     "start_time": "2025-07-31T00:00:10.814674Z"
    }
   },
   "cell_type": "code",
   "source": [
    "# IMPORTING DATA\n",
    "df= pd.read_csv(\"../data/Telco-Customer-Churn.csv\")\n",
    "print(df.shape)\n",
    "print(df.head)"
   ],
   "id": "21d337c6b4c0a022",
   "outputs": [
    {
     "name": "stdout",
     "output_type": "stream",
     "text": [
      "(7043, 21)\n",
      "<bound method NDFrame.head of       customerID  gender  SeniorCitizen Partner Dependents  tenure  \\\n",
      "0     7590-VHVEG  Female              0     Yes         No       1   \n",
      "1     5575-GNVDE    Male              0      No         No      34   \n",
      "2     3668-QPYBK    Male              0      No         No       2   \n",
      "3     7795-CFOCW    Male              0      No         No      45   \n",
      "4     9237-HQITU  Female              0      No         No       2   \n",
      "...          ...     ...            ...     ...        ...     ...   \n",
      "7038  6840-RESVB    Male              0     Yes        Yes      24   \n",
      "7039  2234-XADUH  Female              0     Yes        Yes      72   \n",
      "7040  4801-JZAZL  Female              0     Yes        Yes      11   \n",
      "7041  8361-LTMKD    Male              1     Yes         No       4   \n",
      "7042  3186-AJIEK    Male              0      No         No      66   \n",
      "\n",
      "     PhoneService     MultipleLines InternetService OnlineSecurity  ...  \\\n",
      "0              No  No phone service             DSL             No  ...   \n",
      "1             Yes                No             DSL            Yes  ...   \n",
      "2             Yes                No             DSL            Yes  ...   \n",
      "3              No  No phone service             DSL            Yes  ...   \n",
      "4             Yes                No     Fiber optic             No  ...   \n",
      "...           ...               ...             ...            ...  ...   \n",
      "7038          Yes               Yes             DSL            Yes  ...   \n",
      "7039          Yes               Yes     Fiber optic             No  ...   \n",
      "7040           No  No phone service             DSL            Yes  ...   \n",
      "7041          Yes               Yes     Fiber optic             No  ...   \n",
      "7042          Yes                No     Fiber optic            Yes  ...   \n",
      "\n",
      "     DeviceProtection TechSupport StreamingTV StreamingMovies        Contract  \\\n",
      "0                  No          No          No              No  Month-to-month   \n",
      "1                 Yes          No          No              No        One year   \n",
      "2                  No          No          No              No  Month-to-month   \n",
      "3                 Yes         Yes          No              No        One year   \n",
      "4                  No          No          No              No  Month-to-month   \n",
      "...               ...         ...         ...             ...             ...   \n",
      "7038              Yes         Yes         Yes             Yes        One year   \n",
      "7039              Yes          No         Yes             Yes        One year   \n",
      "7040               No          No          No              No  Month-to-month   \n",
      "7041               No          No          No              No  Month-to-month   \n",
      "7042              Yes         Yes         Yes             Yes        Two year   \n",
      "\n",
      "     PaperlessBilling              PaymentMethod MonthlyCharges  TotalCharges  \\\n",
      "0                 Yes           Electronic check          29.85         29.85   \n",
      "1                  No               Mailed check          56.95        1889.5   \n",
      "2                 Yes               Mailed check          53.85        108.15   \n",
      "3                  No  Bank transfer (automatic)          42.30       1840.75   \n",
      "4                 Yes           Electronic check          70.70        151.65   \n",
      "...               ...                        ...            ...           ...   \n",
      "7038              Yes               Mailed check          84.80        1990.5   \n",
      "7039              Yes    Credit card (automatic)         103.20        7362.9   \n",
      "7040              Yes           Electronic check          29.60        346.45   \n",
      "7041              Yes               Mailed check          74.40         306.6   \n",
      "7042              Yes  Bank transfer (automatic)         105.65        6844.5   \n",
      "\n",
      "     Churn  \n",
      "0       No  \n",
      "1       No  \n",
      "2      Yes  \n",
      "3       No  \n",
      "4      Yes  \n",
      "...    ...  \n",
      "7038    No  \n",
      "7039    No  \n",
      "7040    No  \n",
      "7041   Yes  \n",
      "7042    No  \n",
      "\n",
      "[7043 rows x 21 columns]>\n"
     ]
    }
   ],
   "execution_count": 9
  },
  {
   "metadata": {
    "ExecuteTime": {
     "end_time": "2025-07-31T00:07:17.363303Z",
     "start_time": "2025-07-31T00:07:17.337797Z"
    }
   },
   "cell_type": "code",
   "source": [
    "# Initial exploration of the data\n",
    "df.info()                                         # Finds the column names, data types, and missing values\n",
    "df.describe()                                     # Provides MIN, MAX, MEAN\n",
    "df.isnull().sum()                                 # Counts missing values in each column\n",
    "df['Churn'].value_counts(normalize=True)*100      # Shows the churn percentage\n",
    "\n",
    "# USE CASE - Provides data quality info and target variable balance (Base for modeling)"
   ],
   "id": "42c41e7d73629e4b",
   "outputs": [
    {
     "name": "stdout",
     "output_type": "stream",
     "text": [
      "<class 'pandas.core.frame.DataFrame'>\n",
      "RangeIndex: 7043 entries, 0 to 7042\n",
      "Data columns (total 21 columns):\n",
      " #   Column            Non-Null Count  Dtype  \n",
      "---  ------            --------------  -----  \n",
      " 0   customerID        7043 non-null   object \n",
      " 1   gender            7043 non-null   object \n",
      " 2   SeniorCitizen     7043 non-null   int64  \n",
      " 3   Partner           7043 non-null   object \n",
      " 4   Dependents        7043 non-null   object \n",
      " 5   tenure            7043 non-null   int64  \n",
      " 6   PhoneService      7043 non-null   object \n",
      " 7   MultipleLines     7043 non-null   object \n",
      " 8   InternetService   7043 non-null   object \n",
      " 9   OnlineSecurity    7043 non-null   object \n",
      " 10  OnlineBackup      7043 non-null   object \n",
      " 11  DeviceProtection  7043 non-null   object \n",
      " 12  TechSupport       7043 non-null   object \n",
      " 13  StreamingTV       7043 non-null   object \n",
      " 14  StreamingMovies   7043 non-null   object \n",
      " 15  Contract          7043 non-null   object \n",
      " 16  PaperlessBilling  7043 non-null   object \n",
      " 17  PaymentMethod     7043 non-null   object \n",
      " 18  MonthlyCharges    7043 non-null   float64\n",
      " 19  TotalCharges      7043 non-null   object \n",
      " 20  Churn             7043 non-null   object \n",
      "dtypes: float64(1), int64(2), object(18)\n",
      "memory usage: 1.1+ MB\n"
     ]
    },
    {
     "data": {
      "text/plain": [
       "Churn\n",
       "No     73.463013\n",
       "Yes    26.536987\n",
       "Name: proportion, dtype: float64"
      ]
     },
     "execution_count": 10,
     "metadata": {},
     "output_type": "execute_result"
    }
   ],
   "execution_count": 10
  },
  {
   "metadata": {},
   "cell_type": "markdown",
   "source": [
    "### Need for data cleaning?\n",
    "#### Data must be clean before modeling, missing values and irrelevant features can lower the efficiency of our model later on"
   ],
   "id": "f8ac4360ac7a26ba"
  },
  {
   "metadata": {},
   "cell_type": "code",
   "outputs": [],
   "execution_count": null,
   "source": [
    "# DATA CLEANING\n",
    "\n",
    "df.replace(\" \", np.nan, inplace=True)                                    # Replaces empty spaces wth Nan\n",
    "df['TotalCharge'] = pd.to_numeric(df['TotalCharge'], errors='coerce')    # Converts the TotalCharges column to numbers where applicable\n",
    "df.dropna(subset=['TotalCharge'], inplace=True)                          # removes rows with missing values in TotalCharges\n",
    "df.drop(columns=['customerID'], inplace=True)                            # removes customerID (Not essential for making predictions)"
   ],
   "id": "de328e22272d8442"
  },
  {
   "metadata": {
    "ExecuteTime": {
     "end_time": "2025-08-04T00:39:24.312660Z",
     "start_time": "2025-08-04T00:39:24.282330Z"
    }
   },
   "cell_type": "code",
   "source": "df.to_csv(\"../data/clean_telco.csv\", index=False)   # Saves the clean data to our CSV file",
   "id": "569327d7b337ad72",
   "outputs": [],
   "execution_count": 14
  },
  {
   "metadata": {
    "ExecuteTime": {
     "end_time": "2025-08-04T00:39:27.131931Z",
     "start_time": "2025-08-04T00:39:27.064790Z"
    }
   },
   "cell_type": "code",
   "source": [
    "# Visualization of Dataset\n",
    "plt.figure(figsize=(6,4))\n",
    "sns.countplot(x= 'Churn', data=df)\n",
    "plt.title('Churn Distribution')\n",
    "plt.show()"
   ],
   "id": "21386e47548dc531",
   "outputs": [
    {
     "data": {
      "text/plain": [
       "<Figure size 600x400 with 1 Axes>"
      ],
      "image/png": "[encoded data removed]"
     },
     "metadata": {},
     "output_type": "display_data"
    }
   ],
   "execution_count": 15
  },
  {
   "metadata": {
    "ExecuteTime": {
     "end_time": "2025-08-04T00:42:01.753241Z",
     "start_time": "2025-08-04T00:42:01.651881Z"
    }
   },
   "cell_type": "code",
   "source": [
    "# Creating a histogram to represent the numerical values\n",
    "num_cols = ['tenure','MonthlyCharges','TotalCharges']\n",
    "df[num_cols].hist(bins=20, figsize=(10,5))\n",
    "plt.show()"
   ],
   "id": "913ffa4058d2c25b",
   "outputs": [
    {
     "data": {
      "text/plain": [
       "<Figure size 1000x500 with 2 Axes>"
      ],
      "image/png": "[encoded data removed]"
     },
     "metadata": {},
     "output_type": "display_data"
    }
   ],
   "execution_count": 16
  },
  {
   "metadata": {},
   "cell_type": "markdown",
   "source": [
    "#### Bivariate Analysis\n",
    "##### Plots churn vs contract type"
   ],
   "id": "513bd7aff4efdcb5"
  },
  {
   "metadata": {
    "ExecuteTime": {
     "end_time": "2025-08-04T00:49:17.982429Z",
     "start_time": "2025-08-04T00:49:17.917110Z"
    }
   },
   "cell_type": "code",
   "source": [
    "plt.figure(figsize=(6,4))\n",
    "sns.countplot(x= 'Contract', hue='Churn', data=df)\n",
    "plt.xticks(rotation=30)\n",
    "plt.show()"
   ],
   "id": "b491bd175f987c29",
   "outputs": [
    {
     "data": {
      "text/plain": [
       "<Figure size 600x400 with 1 Axes>"
      ],
      "image/png": "[encoded data removed]"
     },
     "metadata": {},
     "output_type": "display_data"
    }
   ],
   "execution_count": 17
  },
  {
   "metadata": {
    "ExecuteTime": {
     "end_time": "2025-08-04T00:52:08.384201Z",
     "start_time": "2025-08-04T00:52:08.330026Z"
    }
   },
   "cell_type": "code",
   "source": [
    "plt.figure(figsize=(8,6))\n",
    "sns.heatmap(df.corr(numeric_only=True), annot=True, cmap=\"coolwarm\")\n",
    "plt.title('Correlation Heatmap')\n",
    "plt.show()"
   ],
   "id": "547416233c96b7b5",
   "outputs": [
    {
     "data": {
      "text/plain": [
       "<Figure size 800x600 with 2 Axes>"
      ],
      "image/png": "[encoded data removed]"
     },
     "metadata": {},
     "output_type": "display_data"
    }
   ],
   "execution_count": 18
  },
  {
   "metadata": {},
   "cell_type": "markdown",
   "source": [
    "### IN DEPTH DATA CLEANING\n",
    "#### *IMPLEMENTED PROCEDURES*\n",
    "##### 1. Handle Missing Data\n",
    "######  - Drop columns with too many missing values\n",
    "######  - Adding *median/mean* numeric values for missing numeric columns\n",
    "######  - Adding most common categories to any missing categorical values\n",
    "\n",
    "##### 2. Converting Categorical Features\n",
    "######  - Use of *Label Encoding* (for binary categories)\n",
    "######  - Use of *One-hot Encoding* (for multi-category)\n",
    "\n",
    "##### 3. Convert *Target Table*\n",
    "##### 4. Scale Numerical Features"
   ],
   "id": "9f2adddd2aa9ac3d"
  },
  {
   "metadata": {
    "ExecuteTime": {
     "end_time": "2025-08-04T02:19:40.553878Z",
     "start_time": "2025-08-04T02:19:40.490447Z"
    }
   },
   "cell_type": "code",
   "source": [
    "data = df.copy()\n",
    "\n",
    "#FILLS OUT ALL THE MISSING VALUES\n",
    "for col in data.columns:\n",
    "    if data[col].dtype == 'object':\n",
    "        data[col].fillna(data[col].mode()[0])\n",
    "    else:\n",
    "        data[col].fillna(data[col].median())\n",
    "\n",
    "# ENCODING CATEGORICAL VARIABLES\n",
    "label_enc= LabelEncoder()\n",
    "data['Churn'] = label_enc.fit_transform(data['Churn'])  # Yes = 1, No = 0\n",
    "\n",
    "# ONE-HOT ENCODING: Categorical variables\n",
    "data = pd.get_dummies(data, drop_first=True)\n",
    "\n",
    "print(\"DATA AFTER PREPROCESSING\", data.head())\n",
    "\n",
    "\n",
    "\n",
    "\n"
   ],
   "id": "a765ef6c88a71009",
   "outputs": [
    {
     "name": "stdout",
     "output_type": "stream",
     "text": [
      "DATA AFTER PREPROCESSING    SeniorCitizen  tenure  MonthlyCharges  Churn  customerID_0003-MKNFE  \\\n",
      "0              0       1           29.85      0                  False   \n",
      "1              0      34           56.95      0                  False   \n",
      "2              0       2           53.85      1                  False   \n",
      "3              0      45           42.30      0                  False   \n",
      "4              0       2           70.70      1                  False   \n",
      "\n",
      "   customerID_0004-TLHLJ  customerID_0011-IGKFF  customerID_0013-EXCHZ  \\\n",
      "0                  False                  False                  False   \n",
      "1                  False                  False                  False   \n",
      "2                  False                  False                  False   \n",
      "3                  False                  False                  False   \n",
      "4                  False                  False                  False   \n",
      "\n",
      "   customerID_0013-MHZWF  customerID_0013-SMEOE  ...  TotalCharges_995.35  \\\n",
      "0                  False                  False  ...                False   \n",
      "1                  False                  False  ...                False   \n",
      "2                  False                  False  ...                False   \n",
      "3                  False                  False  ...                False   \n",
      "4                  False                  False  ...                False   \n",
      "\n",
      "   TotalCharges_996.45  TotalCharges_996.85  TotalCharges_996.95  \\\n",
      "0                False                False                False   \n",
      "1                False                False                False   \n",
      "2                False                False                False   \n",
      "3                False                False                False   \n",
      "4                False                False                False   \n",
      "\n",
      "   TotalCharges_997.65  TotalCharges_997.75  TotalCharges_998.1  \\\n",
      "0                False                False               False   \n",
      "1                False                False               False   \n",
      "2                False                False               False   \n",
      "3                False                False               False   \n",
      "4                False                False               False   \n",
      "\n",
      "   TotalCharges_999.45  TotalCharges_999.8  TotalCharges_999.9  \n",
      "0                False               False               False  \n",
      "1                False               False               False  \n",
      "2                False               False               False  \n",
      "3                False               False               False  \n",
      "4                False               False               False  \n",
      "\n",
      "[5 rows x 13602 columns]\n"
     ]
    }
   ],
   "execution_count": 42
  },
  {
   "metadata": {},
   "cell_type": "markdown",
   "source": [
    "#### DATA SPLITTING\n",
    "##### Data split into training and testing\n",
    "###### TESTING - 20% data split\n",
    "###### TRAINING - 80% data split"
   ],
   "id": "90e2e1993f208455"
  },
  {
   "metadata": {
    "ExecuteTime": {
     "end_time": "2025-08-04T02:32:17.784382Z",
     "start_time": "2025-08-04T02:32:17.480758Z"
    }
   },
   "cell_type": "code",
   "source": [
    "from sklearn.model_selection import train_test_split\n",
    "\n",
    "X = data.drop('Churn', axis=1)\n",
    "y = data['Churn']\n",
    "X_train, X_test, y_train, y_test = train_test_split(X, y, test_size=0.2, random_state=42)"
   ],
   "id": "dd65baad07e431a8",
   "outputs": [],
   "execution_count": 43
  },
  {
   "metadata": {},
   "cell_type": "markdown",
   "source": "#### Building a Baseline Model\n",
   "id": "6e639763ec7625e3"
  },
  {
   "metadata": {
    "ExecuteTime": {
     "end_time": "2025-08-04T02:36:13.669658Z",
     "start_time": "2025-08-04T02:35:51.107345Z"
    }
   },
   "cell_type": "code",
   "source": [
    "from sklearn.linear_model import LogisticRegression\n",
    "from sklearn.metrics import accuracy_score, confusion_matrix, classification_report\n",
    "\n",
    "model = LogisticRegression(max_iter=1000)\n",
    "model.fit(X_train, y_train)\n",
    "y_pred = model.predict(X_test)\n",
    "print(\"Accuracy:\", accuracy_score(y_test, y_pred))\n",
    "print(\"\\nConfusion Matrix:\\n\", confusion_matrix(y_test, y_pred))\n",
    "print(\"\\nClassification Report:\\n\", classification_report(y_test, y_pred))"
   ],
   "id": "9271f24fd405cf18",
   "outputs": [
    {
     "name": "stdout",
     "output_type": "stream",
     "text": [
      "Accuracy: 0.8239886444286728\n",
      "\n",
      "Confusion Matrix:\n",
      " [[940  96]\n",
      " [152 221]]\n",
      "\n",
      "Classification Report:\n",
      "               precision    recall  f1-score   support\n",
      "\n",
      "           0       0.86      0.91      0.88      1036\n",
      "           1       0.70      0.59      0.64       373\n",
      "\n",
      "    accuracy                           0.82      1409\n",
      "   macro avg       0.78      0.75      0.76      1409\n",
      "weighted avg       0.82      0.82      0.82      1409\n",
      "\n"
     ]
    },
    {
     "name": "stderr",
     "output_type": "stream",
     "text": [
      "/opt/anaconda3/envs/my_first_project/lib/python3.10/site-packages/sklearn/linear_model/_logistic.py:473: ConvergenceWarning: lbfgs failed to converge after 1000 iteration(s) (status=1):\n",
      "STOP: TOTAL NO. OF ITERATIONS REACHED LIMIT\n",
      "\n",
      "Increase the number of iterations to improve the convergence (max_iter=1000).\n",
      "You might also want to scale the data as shown in:\n",
      "    https://scikit-learn.org/stable/modules/preprocessing.html\n",
      "Please also refer to the documentation for alternative solver options:\n",
      "    https://scikit-learn.org/stable/modules/linear_model.html#logistic-regression\n",
      "  n_iter_i = _check_optimize_result(\n"
     ]
    }
   ],
   "execution_count": 44
  },
  {
   "metadata": {},
   "cell_type": "markdown",
   "source": [
    "\n",
    "##  Model Evaluation\n",
    "\n",
    "After training a **Logistic Regression** model on the processed dataset, the model's performance was evaluated using a **confusion matrix** and a **classification report**.\n",
    "\n",
    "---\n",
    "\n",
    "###  Confusion Matrix\n",
    "[[940 96]\n",
    "[152 221]]\n",
    "\n",
    "\n",
    "\n",
    "- **True Negatives (940):** Correctly predicted customers who did not churn.\n",
    "- **False Positives (96):** Incorrectly predicted churn for customers who stayed.\n",
    "- **False Negatives (152):** Missed customers who actually churned.\n",
    "- **True Positives (221):** Correctly predicted churners.\n",
    "\n",
    "---\n",
    "\n",
    "###  Classification Report\n",
    "\n",
    "| Metric      | Class 0 (No Churn) | Class 1 (Churn) |\n",
    "|-------------|---------------------|-----------------|\n",
    "| Precision   | 0.86               | 0.70            |\n",
    "| Recall      | 0.91               | 0.59            |\n",
    "| F1-score    | 0.88               | 0.64            |\n",
    "| Support     | 1036               | 373             |\n",
    "\n",
    "- **Overall Accuracy:** **0.82 (82%)**\n",
    "- **Macro Avg F1-score:** **0.76**\n",
    "- **Weighted Avg F1-score:** **0.82**\n",
    "\n",
    "---\n",
    "\n",
    "##  Interpretation\n",
    "\n",
    "- The model performs **very well** in predicting customers who do **not churn** (high recall of 0.91).\n",
    "- However, it **struggles to correctly identify churners** (recall only 0.59).\n",
    "- This means many churners are misclassified as non-churners, which is a critical issue from a business perspective.\n",
    "\n",
    "---\n",
    "\n",
    "\n"
   ],
   "id": "3d7a6dae4aeb1e98"
  },
  {
   "metadata": {},
   "cell_type": "markdown",
   "source": "",
   "id": "9a83ae82cd8f87f1"
  }
 ],
 "metadata": {
  "kernelspec": {
   "display_name": "Python 3",
   "language": "python",
   "name": "python3"
  },
  "language_info": {
   "codemirror_mode": {
    "name": "ipython",
    "version": 2
   },
   "file_extension": ".py",
   "mimetype": "text/x-python",
   "name": "python",
   "nbconvert_exporter": "python",
   "pygments_lexer": "ipython2",
   "version": "2.7.6"
  }
 },
 "nbformat": 4,
 "nbformat_minor": 5
}
